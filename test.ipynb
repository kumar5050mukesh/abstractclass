{
 "cells": [
  {
   "cell_type": "code",
   "execution_count": null,
   "id": "963c58ed-af8e-4066-9070-63a362a0b997",
   "metadata": {},
   "outputs": [],
   "source": [
    "import abc\n",
    "\n",
    "class PaymentMethod(metaclass=abc.ABCMeta):\n",
    "    @abc.abstractmethod\n",
    "    def pay(self, amount):\n",
    "        pass\n",
    "\n",
    "class CreditCard(PaymentMethod):\n",
    "    def __init__(self, card_number, expiry_date, cvv):\n",
    "        self.card_number = card_number\n",
    "        self.expiry_date = expiry_date\n",
    "        self.cvv = cvv\n",
    "\n",
    "    def pay(self, amount):\n",
    "        # Logic to process payment using a credit card\n",
    "        print(f\"Paying {amount} using credit card with number {self.card_number}\")\n",
    "\n",
    "class PayPal(PaymentMethod):\n",
    "    def __init__(self, email, password):\n",
    "        self.email = email\n",
    "        self.password = password\n",
    "\n",
    "    def pay(self, amount):\n",
    "        # Logic to process payment using PayPal\n",
    "        print(f\"Paying {amount} using PayPal account with email {self.email}\")\n",
    "\n",
    "class BankTransfer(PaymentMethod):\n",
    "    def __init__(self, bank_name, account_number):\n",
    "        self.bank_name = bank_name\n",
    "        self.account_number = account_number\n",
    "\n",
    "    def pay(self, amount):\n",
    "        # Logic to process payment using bank transfer\n",
    "        print(f\"Paying {amount} using bank transfer to account {self.account_number} at {self.bank_name}\")\n",
    "\n",
    "def main():\n",
    "    payment_methods = [CreditCard(\"1234 5678 9012 3456\", \"01/23\", \"123\"),\n",
    "                       PayPal(\"user@example.com\", \"password\"),\n",
    "                       BankTransfer(\"XYZ Bank\", \"123456\")]\n",
    "    for payment_method in payment_methods:\n",
    "        payment_method.pay(100)\n",
    "\n",
    "if __name__ == \"__main__\":\n",
    "    main()\n",
    "\n"
   ]
  }
 ],
 "metadata": {
  "kernelspec": {
   "display_name": "Python 3 (ipykernel)",
   "language": "python",
   "name": "python3"
  },
  "language_info": {
   "codemirror_mode": {
    "name": "ipython",
    "version": 3
   },
   "file_extension": ".py",
   "mimetype": "text/x-python",
   "name": "python",
   "nbconvert_exporter": "python",
   "pygments_lexer": "ipython3",
   "version": "3.10.8"
  }
 },
 "nbformat": 4,
 "nbformat_minor": 5
}
